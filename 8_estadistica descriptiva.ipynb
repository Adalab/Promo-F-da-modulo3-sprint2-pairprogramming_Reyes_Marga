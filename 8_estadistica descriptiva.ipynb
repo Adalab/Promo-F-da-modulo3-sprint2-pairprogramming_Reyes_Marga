{
 "cells": [
  {
   "cell_type": "code",
   "execution_count": 1,
   "metadata": {},
   "outputs": [],
   "source": [
    "import pandas as pd\n",
    "import numpy as np\n",
    "\n",
    "# Visualización\n",
    "# ------------------------------------------------------------------------------\n",
    "import matplotlib.pyplot as plt\n",
    "import seaborn as sns\n",
    "\n",
    "# Evaluar linealidad de las relaciones entre las variables\n",
    "# ------------------------------------------------------------------------------\n",
    "from scipy.stats import shapiro, kstest\n",
    "\n",
    "# Configuración\n",
    "# -----------------------------------------------------------------------\n",
    "pd.set_option('display.max_columns', None) # para poder visualizar todas las columnas de los DataFrames\n",
    "\n",
    "# Gestión de los warnings\n",
    "# -----------------------------------------------------------------------\n",
    "import warnings\n",
    "warnings.filterwarnings(\"ignore\")\n",
    "\n",
    "from itertools import combinations"
   ]
  },
  {
   "cell_type": "code",
   "execution_count": 2,
   "metadata": {},
   "outputs": [],
   "source": [
    "df=pd.read_csv('world_data_sin_nulos.csv', index_col=0)"
   ]
  },
  {
   "cell_type": "markdown",
   "metadata": {},
   "source": [
    "1. Calcula las siguientes estadísticas descriptivas para las variables numéricas:\n",
    "- Media\n",
    "- Mediana\n",
    "- Desviación estándar\n",
    "- Mínimo\n",
    "- Máximo"
   ]
  },
  {
   "cell_type": "code",
   "execution_count": 3,
   "metadata": {},
   "outputs": [
    {
     "data": {
      "text/plain": [
       "Index(['density', 'agriculturalland', 'landarea', 'birthrate', 'callingcode',\n",
       "       'co2-emissions', 'fertilityrate', 'forestedarea', 'gdp',\n",
       "       'grossprimaryeducationenrollment', 'infantmortality', 'lifeexpectancy',\n",
       "       'outofpockethealthexpenditure', 'physiciansperthousand', 'population',\n",
       "       'urban_population', 'latitude', 'longitude', 'armedforcessize', 'cpi',\n",
       "       'cpichange', 'gasolineprice', 'grosstertiaryeducationenrollment',\n",
       "       'maternalmortalityratio', 'minimumwage',\n",
       "       'populationlaborforceparticipation', 'taxrevenue', 'totaltaxrate',\n",
       "       'unemploymentrate'],\n",
       "      dtype='object')"
      ]
     },
     "execution_count": 3,
     "metadata": {},
     "output_type": "execute_result"
    }
   ],
   "source": [
    "numericas = df.select_dtypes(include=['int64','float64']).columns\n",
    "numericas"
   ]
  },
  {
   "cell_type": "code",
   "execution_count": 6,
   "metadata": {},
   "outputs": [
    {
     "name": "stdout",
     "output_type": "stream",
     "text": [
      "La columna density tiene los siguientes valores: media= 356.7641025641026, mediana= 89.0, desviación estándar= 1982.8889669887628, mínimo= 2.0, máximo= 26337.0\n",
      "-----------------------------------------------------------------------\n",
      "La columna agriculturalland tiene los siguientes valores: media= 39.134871794871806, mediana= 39.6, desviación estándar= 21.386637468890402, mínimo= 0.6, máximo= 82.6\n",
      "-----------------------------------------------------------------------\n",
      "La columna landarea tiene los siguientes valores: media= 686700.7076923077, mediana= 119511.0, desviación estándar= 1917085.0052104185, mínimo= 0.0, máximo= 17098240.0\n",
      "-----------------------------------------------------------------------\n",
      "La columna birthrate tiene los siguientes valores: media= 20.145282051282045, mediana= 17.95, desviación estándar= 9.79861542383212, mínimo= 5.9, máximo= 46.08\n",
      "-----------------------------------------------------------------------\n",
      "La columna callingcode tiene los siguientes valores: media= 360.0076923076923, mediana= 255.5, desviación estándar= 322.49000814427484, mínimo= 1.0, máximo= 1876.0\n",
      "-----------------------------------------------------------------------\n",
      "La columna co2-emissions tiene los siguientes valores: media= 171858.3487179487, mediana= 12303.0, desviación estándar= 824096.7096582648, mínimo= 11.0, máximo= 9893038.0\n",
      "-----------------------------------------------------------------------\n",
      "La columna fertilityrate tiene los siguientes valores: media= 2.681871794871794, mediana= 2.245, desviación estándar= 1.2617550201609664, mínimo= 0.98, máximo= 6.91\n",
      "-----------------------------------------------------------------------\n",
      "La columna forestedarea tiene los siguientes valores: media= 32.014871794871794, mediana= 32.0, desviación estándar= 23.35816231559814, mínimo= 0.0, máximo= 98.3\n",
      "-----------------------------------------------------------------------\n",
      "La columna gdp tiene los siguientes valores: media= 472753248354.2718, mediana= 34387229486.0, desviación estándar= 2161410664924.701, mínimo= 47271463.0, máximo= 21427700000000.0\n",
      "-----------------------------------------------------------------------\n",
      "La columna grossprimaryeducationenrollment tiene los siguientes valores: media= 102.47307692307695, mediana= 102.55, desviación estándar= 12.912164837587124, mínimo= 23.4, máximo= 142.5\n",
      "-----------------------------------------------------------------------\n",
      "La columna infantmortality tiene los siguientes valores: media= 21.10717948717948, mediana= 14.0, desviación estándar= 19.285228836652447, mínimo= 1.4, máximo= 84.5\n",
      "-----------------------------------------------------------------------\n",
      "La columna lifeexpectancy tiene los siguientes valores: media= 72.31743589743587, mediana= 73.2, desviación estándar= 7.330019028522269, mínimo= 52.8, máximo= 85.4\n",
      "-----------------------------------------------------------------------\n",
      "La columna outofpockethealthexpenditure tiene los siguientes valores: media= 32.567692307692305, mediana= 30.7, desviación estándar= 18.827087097175475, mínimo= 0.2, máximo= 81.6\n",
      "-----------------------------------------------------------------------\n",
      "La columna physiciansperthousand tiene los siguientes valores: media= 1.8262051282051293, mediana= 1.46, desviación estándar= 1.6551126535223684, mínimo= 0.01, máximo= 8.42\n",
      "-----------------------------------------------------------------------\n",
      "La columna population tiene los siguientes valores: media= 39224473.87692308, mediana= 8826588.0, desviación estándar= 144734499.10738876, mínimo= 836.0, máximo= 1397715000.0\n",
      "-----------------------------------------------------------------------\n",
      "La columna urban_population tiene los siguientes valores: media= 21852583.223076925, mediana= 4678103.5, desviación estándar= 74504491.95783792, mínimo= 5464.0, máximo= 842933962.0\n",
      "-----------------------------------------------------------------------\n",
      "La columna latitude tiene los siguientes valores: media= 19.083025824102563, mediana= 17.273849499999997, desviación estándar= 23.90029729414749, mínimo= -40.900557, máximo= 64.963051\n",
      "-----------------------------------------------------------------------\n",
      "La columna longitude tiene los siguientes valores: media= 20.236230473846156, mediana= 20.9726515, desviación estándar= 66.54396039882573, mínimo= -175.198242, máximo= 178.065032\n",
      "-----------------------------------------------------------------------\n",
      "La columna armedforcessize tiene los siguientes valores: media= 163103.45778977356, mediana= 40000.0, desviación estándar= 361666.9911059019, mínimo= 0.0, máximo= 3031000.0\n",
      "-----------------------------------------------------------------------\n",
      "La columna cpi tiene los siguientes valores: media= 186.14367577067125, mediana= 125.08, desviación estándar= 380.5157085151479, mínimo= 99.03, máximo= 4583.71\n",
      "-----------------------------------------------------------------------\n",
      "La columna cpichange tiene los siguientes valores: media= 6.445085804326028, mediana= 2.3, desviación estándar= 23.451454349380114, mínimo= -4.3, máximo= 254.9\n",
      "-----------------------------------------------------------------------\n",
      "La columna gasolineprice tiene los siguientes valores: media= 1.0197553113553115, mediana= 1.002457142857143, desviación estándar= 0.3599585821251743, mínimo= 0.0, máximo= 2.0\n",
      "-----------------------------------------------------------------------\n",
      "La columna grosstertiaryeducationenrollment tiene los siguientes valores: media= 38.15998430713186, mediana= 34.6, desviación estándar= 28.45606830009964, mínimo= 0.8, máximo= 136.6\n",
      "-----------------------------------------------------------------------\n",
      "La columna maternalmortalityratio tiene los siguientes valores: media= 156.20903244085568, mediana= 58.0, desviación estándar= 226.0181182812174, mínimo= 2.0, máximo= 1150.0\n",
      "-----------------------------------------------------------------------\n",
      "La columna minimumwage tiene los siguientes valores: media= 2.670536752136754, mediana= 1.56, desviación estándar= 2.816352716717069, mínimo= 0.01, máximo= 13.59\n",
      "-----------------------------------------------------------------------\n",
      "La columna populationlaborforceparticipation tiene los siguientes valores: media= 62.694104312354305, mediana= 62.6, desviación estándar= 10.03874721819571, mínimo= 38.0, máximo= 86.8\n",
      "-----------------------------------------------------------------------\n",
      "La columna taxrevenue tiene los siguientes valores: media= 16.945588833257467, mediana= 17.1, desviación estándar= 6.646716505515772, mínimo= 0.0, máximo= 37.2\n",
      "-----------------------------------------------------------------------\n",
      "La columna totaltaxrate tiene los siguientes valores: media= 40.815959086450896, mediana= 37.7, desviación estándar= 19.924890102369766, mínimo= 8.0, máximo= 219.6\n",
      "-----------------------------------------------------------------------\n",
      "La columna unemploymentrate tiene los siguientes valores: media= 6.97830675990676, mediana= 5.61, desviación estándar= 4.874993969737684, mínimo= 0.09, máximo= 28.18\n",
      "-----------------------------------------------------------------------\n"
     ]
    }
   ],
   "source": [
    "for numerica in numericas: \n",
    "    media=df[numerica].mean()\n",
    "    mediana=df[numerica].median()\n",
    "    desviacion=df[numerica].std()\n",
    "    minimo=df[numerica].min()\n",
    "    maximo=df[numerica].max()\n",
    "    print(f'La columna {numerica} tiene los siguientes valores: media= {media}, mediana= {mediana}, desviación estándar= {desviacion}, mínimo= {minimo}, máximo= {maximo}')\n",
    "    print('-----------------------------------------------------------------------')"
   ]
  },
  {
   "cell_type": "markdown",
   "metadata": {},
   "source": [
    "2. Identifica el país con la mayor densidad de población y el país con la menor población en el conjunto de datos."
   ]
  },
  {
   "cell_type": "code",
   "execution_count": 17,
   "metadata": {},
   "outputs": [
    {
     "data": {
      "text/plain": [
       "113    Monaco\n",
       "Name: country, dtype: object"
      ]
     },
     "execution_count": 17,
     "metadata": {},
     "output_type": "execute_result"
    }
   ],
   "source": [
    "condicion=df['density'].max()\n",
    "resultado=df[df['density']==condicion]['country']\n",
    "resultado\n"
   ]
  },
  {
   "cell_type": "code",
   "execution_count": 18,
   "metadata": {},
   "outputs": [
    {
     "data": {
      "text/plain": [
       "73    Vatican City\n",
       "Name: country, dtype: object"
      ]
     },
     "execution_count": 18,
     "metadata": {},
     "output_type": "execute_result"
    }
   ],
   "source": [
    "condicion2=df['population'].min()\n",
    "resultado2=df[df['population']==condicion2]['country']\n",
    "resultado2"
   ]
  },
  {
   "cell_type": "markdown",
   "metadata": {},
   "source": [
    "3. Calcula la tasa promedio de natalidad (birth_rate) para todos los países en el conjunto de datos."
   ]
  },
  {
   "cell_type": "code",
   "execution_count": 19,
   "metadata": {},
   "outputs": [
    {
     "data": {
      "text/plain": [
       "20.145282051282045"
      ]
     },
     "execution_count": 19,
     "metadata": {},
     "output_type": "execute_result"
    }
   ],
   "source": [
    "df['birthrate'].mean()"
   ]
  },
  {
   "cell_type": "markdown",
   "metadata": {},
   "source": [
    "4. Realiza un análisis de la mortalidad infantil (infant_mortality) y clasifica los países en tres categorías: baja, moderada y alta mortalidad infantil."
   ]
  },
  {
   "cell_type": "code",
   "execution_count": 28,
   "metadata": {},
   "outputs": [],
   "source": [
    "def mortalidad(numero):\n",
    "   \n",
    "    if numero <10:\n",
    "        return \"Baja\"\n",
    "    \n",
    "    elif numero >= 10 and numero <= 50:\n",
    "        return \"Moderada\"\n",
    "    \n",
    "    else:\n",
    "        return \"Alta\""
   ]
  },
  {
   "cell_type": "code",
   "execution_count": 29,
   "metadata": {},
   "outputs": [
    {
     "data": {
      "text/plain": [
       "0      Moderada\n",
       "1          Baja\n",
       "2      Moderada\n",
       "3          Baja\n",
       "4          Alta\n",
       "         ...   \n",
       "190    Moderada\n",
       "191    Moderada\n",
       "192    Moderada\n",
       "193    Moderada\n",
       "194    Moderada\n",
       "Name: infantmortality, Length: 195, dtype: object"
      ]
     },
     "execution_count": 29,
     "metadata": {},
     "output_type": "execute_result"
    }
   ],
   "source": [
    "df[\"infantmortality\"].apply(mortalidad)"
   ]
  },
  {
   "cell_type": "code",
   "execution_count": 30,
   "metadata": {},
   "outputs": [
    {
     "data": {
      "text/plain": [
       "Moderada    101\n",
       "Baja         73\n",
       "Alta         21\n",
       "Name: infantmortality_cat, dtype: int64"
      ]
     },
     "execution_count": 30,
     "metadata": {},
     "output_type": "execute_result"
    }
   ],
   "source": [
    "df[\"infantmortality_cat\"] = df[\"infantmortality\"].apply(mortalidad)\n",
    "df['infantmortality_cat'].value_counts()"
   ]
  },
  {
   "cell_type": "markdown",
   "metadata": {},
   "source": [
    "5. Calcula la correlación entre las variables de \"fertility_rate\" y \"life_expectancy\". Interpreta la relación entre estas dos variables. ¿Qué tipo de correlación hay? Explica la razón de esta relación"
   ]
  },
  {
   "cell_type": "code",
   "execution_count": 34,
   "metadata": {},
   "outputs": [
    {
     "data": {
      "text/html": [
       "<div>\n",
       "<style scoped>\n",
       "    .dataframe tbody tr th:only-of-type {\n",
       "        vertical-align: middle;\n",
       "    }\n",
       "\n",
       "    .dataframe tbody tr th {\n",
       "        vertical-align: top;\n",
       "    }\n",
       "\n",
       "    .dataframe thead th {\n",
       "        text-align: right;\n",
       "    }\n",
       "</style>\n",
       "<table border=\"1\" class=\"dataframe\">\n",
       "  <thead>\n",
       "    <tr style=\"text-align: right;\">\n",
       "      <th></th>\n",
       "      <th>fertilityrate</th>\n",
       "      <th>lifeexpectancy</th>\n",
       "    </tr>\n",
       "  </thead>\n",
       "  <tbody>\n",
       "    <tr>\n",
       "      <th>0</th>\n",
       "      <td>4.47</td>\n",
       "      <td>64.5</td>\n",
       "    </tr>\n",
       "    <tr>\n",
       "      <th>1</th>\n",
       "      <td>1.62</td>\n",
       "      <td>78.5</td>\n",
       "    </tr>\n",
       "    <tr>\n",
       "      <th>2</th>\n",
       "      <td>3.02</td>\n",
       "      <td>76.7</td>\n",
       "    </tr>\n",
       "  </tbody>\n",
       "</table>\n",
       "</div>"
      ],
      "text/plain": [
       "   fertilityrate  lifeexpectancy\n",
       "0           4.47            64.5\n",
       "1           1.62            78.5\n",
       "2           3.02            76.7"
      ]
     },
     "execution_count": 34,
     "metadata": {},
     "output_type": "execute_result"
    }
   ],
   "source": [
    "df_punto5=df[['fertilityrate', 'lifeexpectancy']]\n",
    "df_punto5.head(3)"
   ]
  },
  {
   "cell_type": "code",
   "execution_count": 38,
   "metadata": {},
   "outputs": [
    {
     "data": {
      "text/html": [
       "<div>\n",
       "<style scoped>\n",
       "    .dataframe tbody tr th:only-of-type {\n",
       "        vertical-align: middle;\n",
       "    }\n",
       "\n",
       "    .dataframe tbody tr th {\n",
       "        vertical-align: top;\n",
       "    }\n",
       "\n",
       "    .dataframe thead th {\n",
       "        text-align: right;\n",
       "    }\n",
       "</style>\n",
       "<table border=\"1\" class=\"dataframe\">\n",
       "  <thead>\n",
       "    <tr style=\"text-align: right;\">\n",
       "      <th></th>\n",
       "      <th>fertilityrate</th>\n",
       "      <th>lifeexpectancy</th>\n",
       "    </tr>\n",
       "  </thead>\n",
       "  <tbody>\n",
       "    <tr>\n",
       "      <th>fertilityrate</th>\n",
       "      <td>1.00000</td>\n",
       "      <td>-0.83538</td>\n",
       "    </tr>\n",
       "    <tr>\n",
       "      <th>lifeexpectancy</th>\n",
       "      <td>-0.83538</td>\n",
       "      <td>1.00000</td>\n",
       "    </tr>\n",
       "  </tbody>\n",
       "</table>\n",
       "</div>"
      ],
      "text/plain": [
       "                fertilityrate  lifeexpectancy\n",
       "fertilityrate         1.00000        -0.83538\n",
       "lifeexpectancy       -0.83538         1.00000"
      ]
     },
     "execution_count": 38,
     "metadata": {},
     "output_type": "execute_result"
    }
   ],
   "source": [
    "df_correlaciones=df_punto5.corr( method='spearman')\n",
    "df_correlaciones"
   ]
  },
  {
   "cell_type": "markdown",
   "metadata": {},
   "source": [
    "Correlación fuertemente negativa, de modo que a mayor tasa de fertilidad menor esperanza de vida. "
   ]
  },
  {
   "cell_type": "markdown",
   "metadata": {},
   "source": [
    "6. Visualiza la distribución de la variable \"cpi\" utilizando un histograma y comenta sobre la distribución."
   ]
  },
  {
   "cell_type": "code",
   "execution_count": 46,
   "metadata": {},
   "outputs": [
    {
     "data": {
      "image/png": "[encoded data removed]",
      "text/plain": [
       "<Figure size 432x288 with 1 Axes>"
      ]
     },
     "metadata": {
      "needs_background": "light"
     },
     "output_type": "display_data"
    }
   ],
   "source": [
    "sns.histplot(x='cpi', data=df, kde=True)\n",
    "plt.xlim(0,600);"
   ]
  },
  {
   "cell_type": "code",
   "execution_count": 44,
   "metadata": {},
   "outputs": [
    {
     "data": {
      "text/plain": [
       "186.14367577067125"
      ]
     },
     "execution_count": 44,
     "metadata": {},
     "output_type": "execute_result"
    }
   ],
   "source": [
    "df['cpi'].mean()"
   ]
  },
  {
   "cell_type": "code",
   "execution_count": 45,
   "metadata": {},
   "outputs": [
    {
     "data": {
      "text/plain": [
       "125.08"
      ]
     },
     "execution_count": 45,
     "metadata": {},
     "output_type": "execute_result"
    }
   ],
   "source": [
    "df['cpi'].median()"
   ]
  },
  {
   "cell_type": "markdown",
   "metadata": {},
   "source": [
    "Podemos apreciar que los datos están sesgados debido a la presencia de outliers. La mayor concentración de paises se encuentra entre el cpi 100 y 200. "
   ]
  },
  {
   "cell_type": "markdown",
   "metadata": {},
   "source": [
    "7. Encuentra el país con la mayor diferencia entre el \"gdp\" (Producto Interno Bruto) y el \"co2-emissions\" (emisiones de dióxido de carbono)."
   ]
  },
  {
   "cell_type": "code",
   "execution_count": null,
   "metadata": {},
   "outputs": [],
   "source": []
  }
 ],
 "metadata": {
  "kernelspec": {
   "display_name": "base",
   "language": "python",
   "name": "python3"
  },
  "language_info": {
   "codemirror_mode": {
    "name": "ipython",
    "version": 3
   },
   "file_extension": ".py",
   "mimetype": "text/x-python",
   "name": "python",
   "nbconvert_exporter": "python",
   "pygments_lexer": "ipython3",
   "version": "3.9.7"
  }
 },
 "nbformat": 4,
 "nbformat_minor": 2
}
