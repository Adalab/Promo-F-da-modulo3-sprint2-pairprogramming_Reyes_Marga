{
 "cells": [
  {
   "cell_type": "code",
   "execution_count": 1,
   "metadata": {},
   "outputs": [],
   "source": [
    "import pandas as pd\n",
    "import numpy as np\n",
    "\n",
    "# Visualización\n",
    "# ------------------------------------------------------------------------------\n",
    "import matplotlib.pyplot as plt\n",
    "import seaborn as sns\n",
    "\n",
    "# Evaluar linealidad de las relaciones entre las variables\n",
    "# ------------------------------------------------------------------------------\n",
    "from scipy.stats import shapiro, kstest\n",
    "\n",
    "# Configuración\n",
    "# -----------------------------------------------------------------------\n",
    "pd.set_option('display.max_columns', None) # para poder visualizar todas las columnas de los DataFrames\n",
    "\n",
    "# Gestión de los warnings\n",
    "# -----------------------------------------------------------------------\n",
    "import warnings\n",
    "warnings.filterwarnings(\"ignore\")\n",
    "\n",
    "from itertools import combinations"
   ]
  },
  {
   "cell_type": "code",
   "execution_count": 2,
   "metadata": {},
   "outputs": [],
   "source": [
    "df=pd.read_csv('world_data_sin_nulos.csv', index_col=0)"
   ]
  },
  {
   "cell_type": "markdown",
   "metadata": {},
   "source": [
    "1. Calcula las siguientes estadísticas descriptivas para las variables numéricas:\n",
    "- Media\n",
    "- Mediana\n",
    "- Desviación estándar\n",
    "- Mínimo\n",
    "- Máximo"
   ]
  },
  {
   "cell_type": "code",
   "execution_count": 3,
   "metadata": {},
   "outputs": [
    {
     "data": {
      "text/plain": [
       "Index(['density', 'agriculturalland', 'landarea', 'birthrate', 'callingcode',\n",
       "       'co2-emissions', 'fertilityrate', 'forestedarea', 'gdp',\n",
       "       'grossprimaryeducationenrollment', 'infantmortality', 'lifeexpectancy',\n",
       "       'outofpockethealthexpenditure', 'physiciansperthousand', 'population',\n",
       "       'urban_population', 'latitude', 'longitude', 'armedforcessize', 'cpi',\n",
       "       'cpichange', 'gasolineprice', 'grosstertiaryeducationenrollment',\n",
       "       'maternalmortalityratio', 'minimumwage',\n",
       "       'populationlaborforceparticipation', 'taxrevenue', 'totaltaxrate',\n",
       "       'unemploymentrate'],\n",
       "      dtype='object')"
      ]
     },
     "execution_count": 3,
     "metadata": {},
     "output_type": "execute_result"
    }
   ],
   "source": [
    "numericas = df.select_dtypes(include=['int64','float64']).columns\n",
    "numericas"
   ]
  },
  {
   "cell_type": "code",
   "execution_count": 6,
   "metadata": {},
   "outputs": [
    {
     "name": "stdout",
     "output_type": "stream",
     "text": [
      "La columna density tiene los siguientes valores: media= 356.7641025641026, mediana= 89.0, desviación estándar= 1982.8889669887628, mínimo= 2.0, máximo= 26337.0\n",
      "-----------------------------------------------------------------------\n",
      "La columna agriculturalland tiene los siguientes valores: media= 39.134871794871806, mediana= 39.6, desviación estándar= 21.386637468890402, mínimo= 0.6, máximo= 82.6\n",
      "-----------------------------------------------------------------------\n",
      "La columna landarea tiene los siguientes valores: media= 686700.7076923077, mediana= 119511.0, desviación estándar= 1917085.0052104185, mínimo= 0.0, máximo= 17098240.0\n",
      "-----------------------------------------------------------------------\n",
      "La columna birthrate tiene los siguientes valores: media= 20.145282051282045, mediana= 17.95, desviación estándar= 9.79861542383212, mínimo= 5.9, máximo= 46.08\n",
      "-----------------------------------------------------------------------\n",
      "La columna callingcode tiene los siguientes valores: media= 360.0076923076923, mediana= 255.5, desviación estándar= 322.49000814427484, mínimo= 1.0, máximo= 1876.0\n",
      "-----------------------------------------------------------------------\n",
      "La columna co2-emissions tiene los siguientes valores: media= 171858.3487179487, mediana= 12303.0, desviación estándar= 824096.7096582648, mínimo= 11.0, máximo= 9893038.0\n",
      "-----------------------------------------------------------------------\n",
      "La columna fertilityrate tiene los siguientes valores: media= 2.681871794871794, mediana= 2.245, desviación estándar= 1.2617550201609664, mínimo= 0.98, máximo= 6.91\n",
      "-----------------------------------------------------------------------\n",
      "La columna forestedarea tiene los siguientes valores: media= 32.014871794871794, mediana= 32.0, desviación estándar= 23.35816231559814, mínimo= 0.0, máximo= 98.3\n",
      "-----------------------------------------------------------------------\n",
      "La columna gdp tiene los siguientes valores: media= 472753248354.2718, mediana= 34387229486.0, desviación estándar= 2161410664924.701, mínimo= 47271463.0, máximo= 21427700000000.0\n",
      "-----------------------------------------------------------------------\n",
      "La columna grossprimaryeducationenrollment tiene los siguientes valores: media= 102.47307692307695, mediana= 102.55, desviación estándar= 12.912164837587124, mínimo= 23.4, máximo= 142.5\n",
      "-----------------------------------------------------------------------\n",
      "La columna infantmortality tiene los siguientes valores: media= 21.10717948717948, mediana= 14.0, desviación estándar= 19.285228836652447, mínimo= 1.4, máximo= 84.5\n",
      "-----------------------------------------------------------------------\n",
      "La columna lifeexpectancy tiene los siguientes valores: media= 72.31743589743587, mediana= 73.2, desviación estándar= 7.330019028522269, mínimo= 52.8, máximo= 85.4\n",
      "-----------------------------------------------------------------------\n",
      "La columna outofpockethealthexpenditure tiene los siguientes valores: media= 32.567692307692305, mediana= 30.7, desviación estándar= 18.827087097175475, mínimo= 0.2, máximo= 81.6\n",
      "-----------------------------------------------------------------------\n",
      "La columna physiciansperthousand tiene los siguientes valores: media= 1.8262051282051293, mediana= 1.46, desviación estándar= 1.6551126535223684, mínimo= 0.01, máximo= 8.42\n",
      "-----------------------------------------------------------------------\n",
      "La columna population tiene los siguientes valores: media= 39224473.87692308, mediana= 8826588.0, desviación estándar= 144734499.10738876, mínimo= 836.0, máximo= 1397715000.0\n",
      "-----------------------------------------------------------------------\n",
      "La columna urban_population tiene los siguientes valores: media= 21852583.223076925, mediana= 4678103.5, desviación estándar= 74504491.95783792, mínimo= 5464.0, máximo= 842933962.0\n",
      "-----------------------------------------------------------------------\n",
      "La columna latitude tiene los siguientes valores: media= 19.083025824102563, mediana= 17.273849499999997, desviación estándar= 23.90029729414749, mínimo= -40.900557, máximo= 64.963051\n",
      "-----------------------------------------------------------------------\n",
      "La columna longitude tiene los siguientes valores: media= 20.236230473846156, mediana= 20.9726515, desviación estándar= 66.54396039882573, mínimo= -175.198242, máximo= 178.065032\n",
      "-----------------------------------------------------------------------\n",
      "La columna armedforcessize tiene los siguientes valores: media= 163103.45778977356, mediana= 40000.0, desviación estándar= 361666.9911059019, mínimo= 0.0, máximo= 3031000.0\n",
      "-----------------------------------------------------------------------\n",
      "La columna cpi tiene los siguientes valores: media= 186.14367577067125, mediana= 125.08, desviación estándar= 380.5157085151479, mínimo= 99.03, máximo= 4583.71\n",
      "-----------------------------------------------------------------------\n",
      "La columna cpichange tiene los siguientes valores: media= 6.445085804326028, mediana= 2.3, desviación estándar= 23.451454349380114, mínimo= -4.3, máximo= 254.9\n",
      "-----------------------------------------------------------------------\n",
      "La columna gasolineprice tiene los siguientes valores: media= 1.0197553113553115, mediana= 1.002457142857143, desviación estándar= 0.3599585821251743, mínimo= 0.0, máximo= 2.0\n",
      "-----------------------------------------------------------------------\n",
      "La columna grosstertiaryeducationenrollment tiene los siguientes valores: media= 38.15998430713186, mediana= 34.6, desviación estándar= 28.45606830009964, mínimo= 0.8, máximo= 136.6\n",
      "-----------------------------------------------------------------------\n",
      "La columna maternalmortalityratio tiene los siguientes valores: media= 156.20903244085568, mediana= 58.0, desviación estándar= 226.0181182812174, mínimo= 2.0, máximo= 1150.0\n",
      "-----------------------------------------------------------------------\n",
      "La columna minimumwage tiene los siguientes valores: media= 2.670536752136754, mediana= 1.56, desviación estándar= 2.816352716717069, mínimo= 0.01, máximo= 13.59\n",
      "-----------------------------------------------------------------------\n",
      "La columna populationlaborforceparticipation tiene los siguientes valores: media= 62.694104312354305, mediana= 62.6, desviación estándar= 10.03874721819571, mínimo= 38.0, máximo= 86.8\n",
      "-----------------------------------------------------------------------\n",
      "La columna taxrevenue tiene los siguientes valores: media= 16.945588833257467, mediana= 17.1, desviación estándar= 6.646716505515772, mínimo= 0.0, máximo= 37.2\n",
      "-----------------------------------------------------------------------\n",
      "La columna totaltaxrate tiene los siguientes valores: media= 40.815959086450896, mediana= 37.7, desviación estándar= 19.924890102369766, mínimo= 8.0, máximo= 219.6\n",
      "-----------------------------------------------------------------------\n",
      "La columna unemploymentrate tiene los siguientes valores: media= 6.97830675990676, mediana= 5.61, desviación estándar= 4.874993969737684, mínimo= 0.09, máximo= 28.18\n",
      "-----------------------------------------------------------------------\n"
     ]
    }
   ],
   "source": [
    "for numerica in numericas: \n",
    "    media=df[numerica].mean()\n",
    "    mediana=df[numerica].median()\n",
    "    desviacion=df[numerica].std()\n",
    "    minimo=df[numerica].min()\n",
    "    maximo=df[numerica].max()\n",
    "    print(f'La columna {numerica} tiene los siguientes valores: media= {media}, mediana= {mediana}, desviación estándar= {desviacion}, mínimo= {minimo}, máximo= {maximo}')\n",
    "    print('-----------------------------------------------------------------------')"
   ]
  },
  {
   "cell_type": "markdown",
   "metadata": {},
   "source": [
    "2. Identifica el país con la mayor densidad de población y el país con la menor población en el conjunto de datos."
   ]
  },
  {
   "cell_type": "code",
   "execution_count": 11,
   "metadata": {},
   "outputs": [
    {
     "ename": "KeyError",
     "evalue": "26337.0",
     "output_type": "error",
     "traceback": [
      "\u001b[0;31m---------------------------------------------------------------------------\u001b[0m",
      "\u001b[0;31mKeyError\u001b[0m                                  Traceback (most recent call last)",
      "\u001b[0;32m~/anaconda3/lib/python3.9/site-packages/pandas/core/indexes/base.py\u001b[0m in \u001b[0;36mget_loc\u001b[0;34m(self, key, method, tolerance)\u001b[0m\n\u001b[1;32m   3360\u001b[0m             \u001b[0;32mtry\u001b[0m\u001b[0;34m:\u001b[0m\u001b[0;34m\u001b[0m\u001b[0;34m\u001b[0m\u001b[0m\n\u001b[0;32m-> 3361\u001b[0;31m                 \u001b[0;32mreturn\u001b[0m \u001b[0mself\u001b[0m\u001b[0;34m.\u001b[0m\u001b[0m_engine\u001b[0m\u001b[0;34m.\u001b[0m\u001b[0mget_loc\u001b[0m\u001b[0;34m(\u001b[0m\u001b[0mcasted_key\u001b[0m\u001b[0;34m)\u001b[0m\u001b[0;34m\u001b[0m\u001b[0;34m\u001b[0m\u001b[0m\n\u001b[0m\u001b[1;32m   3362\u001b[0m             \u001b[0;32mexcept\u001b[0m \u001b[0mKeyError\u001b[0m \u001b[0;32mas\u001b[0m \u001b[0merr\u001b[0m\u001b[0;34m:\u001b[0m\u001b[0;34m\u001b[0m\u001b[0;34m\u001b[0m\u001b[0m\n",
      "\u001b[0;32m~/anaconda3/lib/python3.9/site-packages/pandas/_libs/index.pyx\u001b[0m in \u001b[0;36mpandas._libs.index.IndexEngine.get_loc\u001b[0;34m()\u001b[0m\n",
      "\u001b[0;32m~/anaconda3/lib/python3.9/site-packages/pandas/_libs/index.pyx\u001b[0m in \u001b[0;36mpandas._libs.index.IndexEngine.get_loc\u001b[0;34m()\u001b[0m\n",
      "\u001b[0;32mpandas/_libs/hashtable_class_helper.pxi\u001b[0m in \u001b[0;36mpandas._libs.hashtable.Int64HashTable.get_item\u001b[0;34m()\u001b[0m\n",
      "\u001b[0;32mpandas/_libs/hashtable_class_helper.pxi\u001b[0m in \u001b[0;36mpandas._libs.hashtable.Int64HashTable.get_item\u001b[0;34m()\u001b[0m\n",
      "\u001b[0;31mKeyError\u001b[0m: 26337",
      "\nThe above exception was the direct cause of the following exception:\n",
      "\u001b[0;31mKeyError\u001b[0m                                  Traceback (most recent call last)",
      "\u001b[0;32m/tmp/ipykernel_7091/1833882765.py\u001b[0m in \u001b[0;36m<module>\u001b[0;34m\u001b[0m\n\u001b[1;32m      1\u001b[0m \u001b[0mcondicion\u001b[0m\u001b[0;34m=\u001b[0m\u001b[0mdf\u001b[0m\u001b[0;34m[\u001b[0m\u001b[0;34m'density'\u001b[0m\u001b[0;34m]\u001b[0m\u001b[0;34m.\u001b[0m\u001b[0mmax\u001b[0m\u001b[0;34m(\u001b[0m\u001b[0;34m)\u001b[0m\u001b[0;34m\u001b[0m\u001b[0;34m\u001b[0m\u001b[0m\n\u001b[0;32m----> 2\u001b[0;31m \u001b[0mmax_densidad\u001b[0m\u001b[0;34m=\u001b[0m\u001b[0mdf\u001b[0m\u001b[0;34m[\u001b[0m\u001b[0;34m'country'\u001b[0m\u001b[0;34m]\u001b[0m\u001b[0;34m[\u001b[0m\u001b[0mcondicion\u001b[0m\u001b[0;34m]\u001b[0m\u001b[0;34m\u001b[0m\u001b[0;34m\u001b[0m\u001b[0m\n\u001b[0m",
      "\u001b[0;32m~/anaconda3/lib/python3.9/site-packages/pandas/core/series.py\u001b[0m in \u001b[0;36m__getitem__\u001b[0;34m(self, key)\u001b[0m\n\u001b[1;32m    940\u001b[0m \u001b[0;34m\u001b[0m\u001b[0m\n\u001b[1;32m    941\u001b[0m         \u001b[0;32melif\u001b[0m \u001b[0mkey_is_scalar\u001b[0m\u001b[0;34m:\u001b[0m\u001b[0;34m\u001b[0m\u001b[0;34m\u001b[0m\u001b[0m\n\u001b[0;32m--> 942\u001b[0;31m             \u001b[0;32mreturn\u001b[0m \u001b[0mself\u001b[0m\u001b[0;34m.\u001b[0m\u001b[0m_get_value\u001b[0m\u001b[0;34m(\u001b[0m\u001b[0mkey\u001b[0m\u001b[0;34m)\u001b[0m\u001b[0;34m\u001b[0m\u001b[0;34m\u001b[0m\u001b[0m\n\u001b[0m\u001b[1;32m    943\u001b[0m \u001b[0;34m\u001b[0m\u001b[0m\n\u001b[1;32m    944\u001b[0m         \u001b[0;32mif\u001b[0m \u001b[0mis_hashable\u001b[0m\u001b[0;34m(\u001b[0m\u001b[0mkey\u001b[0m\u001b[0;34m)\u001b[0m\u001b[0;34m:\u001b[0m\u001b[0;34m\u001b[0m\u001b[0;34m\u001b[0m\u001b[0m\n",
      "\u001b[0;32m~/anaconda3/lib/python3.9/site-packages/pandas/core/series.py\u001b[0m in \u001b[0;36m_get_value\u001b[0;34m(self, label, takeable)\u001b[0m\n\u001b[1;32m   1049\u001b[0m \u001b[0;34m\u001b[0m\u001b[0m\n\u001b[1;32m   1050\u001b[0m         \u001b[0;31m# Similar to Index.get_value, but we do not fall back to positional\u001b[0m\u001b[0;34m\u001b[0m\u001b[0;34m\u001b[0m\u001b[0m\n\u001b[0;32m-> 1051\u001b[0;31m         \u001b[0mloc\u001b[0m \u001b[0;34m=\u001b[0m \u001b[0mself\u001b[0m\u001b[0;34m.\u001b[0m\u001b[0mindex\u001b[0m\u001b[0;34m.\u001b[0m\u001b[0mget_loc\u001b[0m\u001b[0;34m(\u001b[0m\u001b[0mlabel\u001b[0m\u001b[0;34m)\u001b[0m\u001b[0;34m\u001b[0m\u001b[0;34m\u001b[0m\u001b[0m\n\u001b[0m\u001b[1;32m   1052\u001b[0m         \u001b[0;32mreturn\u001b[0m \u001b[0mself\u001b[0m\u001b[0;34m.\u001b[0m\u001b[0mindex\u001b[0m\u001b[0;34m.\u001b[0m\u001b[0m_get_values_for_loc\u001b[0m\u001b[0;34m(\u001b[0m\u001b[0mself\u001b[0m\u001b[0;34m,\u001b[0m \u001b[0mloc\u001b[0m\u001b[0;34m,\u001b[0m \u001b[0mlabel\u001b[0m\u001b[0;34m)\u001b[0m\u001b[0;34m\u001b[0m\u001b[0;34m\u001b[0m\u001b[0m\n\u001b[1;32m   1053\u001b[0m \u001b[0;34m\u001b[0m\u001b[0m\n",
      "\u001b[0;32m~/anaconda3/lib/python3.9/site-packages/pandas/core/indexes/base.py\u001b[0m in \u001b[0;36mget_loc\u001b[0;34m(self, key, method, tolerance)\u001b[0m\n\u001b[1;32m   3361\u001b[0m                 \u001b[0;32mreturn\u001b[0m \u001b[0mself\u001b[0m\u001b[0;34m.\u001b[0m\u001b[0m_engine\u001b[0m\u001b[0;34m.\u001b[0m\u001b[0mget_loc\u001b[0m\u001b[0;34m(\u001b[0m\u001b[0mcasted_key\u001b[0m\u001b[0;34m)\u001b[0m\u001b[0;34m\u001b[0m\u001b[0;34m\u001b[0m\u001b[0m\n\u001b[1;32m   3362\u001b[0m             \u001b[0;32mexcept\u001b[0m \u001b[0mKeyError\u001b[0m \u001b[0;32mas\u001b[0m \u001b[0merr\u001b[0m\u001b[0;34m:\u001b[0m\u001b[0;34m\u001b[0m\u001b[0;34m\u001b[0m\u001b[0m\n\u001b[0;32m-> 3363\u001b[0;31m                 \u001b[0;32mraise\u001b[0m \u001b[0mKeyError\u001b[0m\u001b[0;34m(\u001b[0m\u001b[0mkey\u001b[0m\u001b[0;34m)\u001b[0m \u001b[0;32mfrom\u001b[0m \u001b[0merr\u001b[0m\u001b[0;34m\u001b[0m\u001b[0;34m\u001b[0m\u001b[0m\n\u001b[0m\u001b[1;32m   3364\u001b[0m \u001b[0;34m\u001b[0m\u001b[0m\n\u001b[1;32m   3365\u001b[0m         \u001b[0;32mif\u001b[0m \u001b[0mis_scalar\u001b[0m\u001b[0;34m(\u001b[0m\u001b[0mkey\u001b[0m\u001b[0;34m)\u001b[0m \u001b[0;32mand\u001b[0m \u001b[0misna\u001b[0m\u001b[0;34m(\u001b[0m\u001b[0mkey\u001b[0m\u001b[0;34m)\u001b[0m \u001b[0;32mand\u001b[0m \u001b[0;32mnot\u001b[0m \u001b[0mself\u001b[0m\u001b[0;34m.\u001b[0m\u001b[0mhasnans\u001b[0m\u001b[0;34m:\u001b[0m\u001b[0;34m\u001b[0m\u001b[0;34m\u001b[0m\u001b[0m\n",
      "\u001b[0;31mKeyError\u001b[0m: 26337.0"
     ]
    }
   ],
   "source": [
    "condicion=df['density'].max()\n",
    "max_densidad=df['country'][condicion]"
   ]
  }
 ],
 "metadata": {
  "kernelspec": {
   "display_name": "base",
   "language": "python",
   "name": "python3"
  },
  "language_info": {
   "codemirror_mode": {
    "name": "ipython",
    "version": 3
   },
   "file_extension": ".py",
   "mimetype": "text/x-python",
   "name": "python",
   "nbconvert_exporter": "python",
   "pygments_lexer": "ipython3",
   "version": "3.9.7"
  }
 },
 "nbformat": 4,
 "nbformat_minor": 2
}
